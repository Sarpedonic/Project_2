{
 "cells": [
  {
   "cell_type": "markdown",
   "metadata": {},
   "source": [
    "# **Objective: Combine League Seasons and Eplore Data**"
   ]
  },
  {
   "cell_type": "code",
   "execution_count": 2,
   "metadata": {},
   "outputs": [],
   "source": [
    "import pandas as pd\n",
    "import numpy as np\n",
    "import seaborn as sns\n",
    "import patsy\n",
    "import scipy.stats as stats\n",
    "from sklearn.model_selection import train_test_split\n",
    "import statsmodels.api as sm\n",
    "import statsmodels.formula.api as smf\n",
    "from sklearn import preprocessing\n",
    "from sklearn.linear_model import LinearRegression\n",
    "import dateutil.parser\n",
    "import matplotlib.pyplot as plt\n",
    "%matplotlib inline"
   ]
  },
  {
   "cell_type": "code",
   "execution_count": null,
   "metadata": {},
   "outputs": [],
   "source": [
    "#Name individual seasons\n",
    "W20 = pd.read_csv(\"Data/WCD-20W-Legs.csv\")\n",
    "F19 = pd.read_csv(\"Data/WCD-19F-Legs.csv\")\n",
    "S19 = pd.read_csv(\"Data/WCD-19S-Legs.csv\")\n",
    "W19 = pd.read_csv(\"Data/WCD-19W-Legs.csv\")\n",
    "F18 = pd.read_csv(\"Data/WCD-18F-Legs.csv\")\n",
    "S18 = pd.read_csv(\"Data/WCD-18S-Legs.csv\")\n",
    "W18 = pd.read_csv(\"Data/WCD-18W-Legs.csv\")\n",
    "F17 = pd.read_csv(\"Data/WCD-17F-Legs.csv\")\n",
    "S17 = pd.read_csv(\"Data/WCD-17S-Legs.csv\")\n",
    "W17 = pd.read_csv(\"Data/WCD-17W-Legs.csv\")\n",
    "F16 = pd.read_csv(\"Data/WCD-16F-Legs.csv\")\n",
    "S16 = pd.read_csv(\"Data/WCD-16S-Legs.csv\")"
   ]
  },
  {
   "cell_type": "code",
   "execution_count": 40,
   "metadata": {},
   "outputs": [],
   "source": [
    "#Make a list of all seasons\n",
    "each = [W20, F19, S19, W19, F18, S18, W18, F17, S17, W17, \n",
    "                   F16, S16]"
   ]
  },
  {
   "cell_type": "code",
   "execution_count": null,
   "metadata": {},
   "outputs": [],
   "source": [
    "#Function for normalizing dates in legs\n",
    "def to_date(dateobj):\n",
    "    date = dateutil.parser.parse(dateobj)\n",
    "    return date"
   ]
  },
  {
   "cell_type": "code",
   "execution_count": 5,
   "metadata": {},
   "outputs": [],
   "source": [
    "#List of dates\n",
    "WNT = each[0]\n",
    "WT = WNT['Date']\n",
    "WN = []\n",
    "for date in WT:\n",
    "    WN.append(date)\n",
    "for date in WN:\n",
    "    to_date(date)"
   ]
  },
  {
   "cell_type": "code",
   "execution_count": 25,
   "metadata": {},
   "outputs": [],
   "source": [
    "#Loop for normalizing dates\n",
    "for season in WCD_All_Seasons:\n",
    "    RLDT = []\n",
    "    xdt = season['Date']\n",
    "    for date in xdt:\n",
    "        rdt = to_date(date)\n",
    "        RLDT.append(rdt)\n",
    "    \n",
    "    season['True_Date'] = RLDT"
   ]
  },
  {
   "cell_type": "code",
   "execution_count": 29,
   "metadata": {},
   "outputs": [
    {
     "data": {
      "text/plain": [
       "<matplotlib.collections.PathCollection at 0x11da035e0>"
      ]
     },
     "execution_count": 29,
     "metadata": {},
     "output_type": "execute_result"
    },
    {
     "data": {
      "image/png": "[encoded data removed]",
      "text/plain": [
       "<Figure size 432x288 with 1 Axes>"
      ]
     },
     "metadata": {
      "needs_background": "light"
     },
     "output_type": "display_data"
    }
   ],
   "source": [
    "#Check last season's 3DA distribution by date\n",
    "W = W20['TrueDate']\n",
    "plt.scatter(W20['TrueDate'],W20['3DA']);"
   ]
  },
  {
   "cell_type": "code",
   "execution_count": 74,
   "metadata": {},
   "outputs": [],
   "source": [
    "#Combine season legs in a dataframe\n",
    "WCD_All_Legs = []\n",
    "for season in each:\n",
    "    WCD_All_Legs.append(season)\n",
    "\n",
    "All_Legs = pd.concat(WCD_All_Legs)\n",
    "All_Legs.reset_index()    "
   ]
  },
  {
   "cell_type": "code",
   "execution_count": 33,
   "metadata": {},
   "outputs": [],
   "source": [
    "#Export to csv\n",
    "All_Legs.to_csv('WCD_All_Legs.csv')"
   ]
  },
  {
   "cell_type": "code",
   "execution_count": 34,
   "metadata": {},
   "outputs": [],
   "source": [
    "#Break out Cricket legs\n",
    "All_Cricket = All_Legs.where(All_Legs['Game'] == 'Cricket')"
   ]
  },
  {
   "cell_type": "code",
   "execution_count": 221,
   "metadata": {},
   "outputs": [
    {
     "data": {
      "text/plain": [
       "array([[<AxesSubplot:title={'center':'3DA'}>]], dtype=object)"
      ]
     },
     "execution_count": 221,
     "metadata": {},
     "output_type": "execute_result"
    },
    {
     "data": {
      "image/png": "[encoded data removed]",
      "text/plain": [
       "<Figure size 432x288 with 1 Axes>"
      ]
     },
     "metadata": {
      "needs_background": "light"
     },
     "output_type": "display_data"
    }
   ],
   "source": [
    "#Cricket 3DA histogram\n",
    "All_Cricket.hist('3DA', bins=25, range=[0,5])"
   ]
  },
  {
   "cell_type": "code",
   "execution_count": 222,
   "metadata": {},
   "outputs": [],
   "source": [
    "#Export cricket legs to csv\n",
    "All_Cricket.to_csv('All_Cricket.csv')"
   ]
  },
  {
   "cell_type": "code",
   "execution_count": 217,
   "metadata": {},
   "outputs": [],
   "source": [
    "# Function to define ordinal values for match dates\n",
    "def seasonindex(season):\n",
    "    SeasonOpen = min(season['TrueDate'])\n",
    "    SeasonClose = max(season['TrueDate'])\n",
    "    SeaInd = []\n",
    "    for date in season['TrueDate']:\n",
    "        days = date - SeasonOpen\n",
    "        SeaInd.append(days.days)\n",
    "    season['Season_Day'] = SeaInd\n",
    "    sealen = (SeasonClose - SeasonOpen).days\n",
    "    print(\"Season is\", sealen, \"days long\")"
   ]
  },
  {
   "cell_type": "code",
   "execution_count": 268,
   "metadata": {},
   "outputs": [],
   "source": [
    "# Make each team's season unique for when seasons are indexed\n",
    "seacount = 0\n",
    "\n",
    "for season in each[::-1]:\n",
    "    seacount += 1\n",
    "    season['TeamSeason'] = season['Team'] + str(seacount)"
   ]
  },
  {
   "cell_type": "code",
   "execution_count": 284,
   "metadata": {},
   "outputs": [],
   "source": [
    "# Pull wins out of W/A column\n",
    "for season in each:\n",
    "    \n",
    "    season['Wins'] = (season['W/A'] != '0')"
   ]
  },
  {
   "cell_type": "code",
   "execution_count": 226,
   "metadata": {},
   "outputs": [
    {
     "name": "stdout",
     "output_type": "stream",
     "text": [
      "Season is 57 days long\n",
      "Season is 734104 days long\n",
      "Season is 134 days long\n",
      "Season is 85 days long\n",
      "Season is 733734 days long\n",
      "Season is 116 days long\n",
      "Season is 85 days long\n",
      "Season is 733340 days long\n",
      "Season is 99 days long\n",
      "Season is 85 days long\n",
      "Season is 732949 days long\n",
      "Season is 99 days long\n"
     ]
    }
   ],
   "source": [
    "# Index each season\n",
    "for season in each:\n",
    "    seasonindex(season)"
   ]
  },
  {
   "cell_type": "code",
   "execution_count": null,
   "metadata": {},
   "outputs": [],
   "source": [
    "# Problem with Fall Seasons - investigate dates out of range\n",
    "seasonindex(F19)"
   ]
  },
  {
   "cell_type": "code",
   "execution_count": 227,
   "metadata": {},
   "outputs": [],
   "source": [
    "# Break Fall Seasons out\n",
    "IndSeas = [W20, S19, W19, S18, W18, S17, W17, S16]\n",
    "FallSeas = [F19, F18, F17, F16]"
   ]
  },
  {
   "cell_type": "code",
   "execution_count": 286,
   "metadata": {},
   "outputs": [],
   "source": [
    "# Get Cricket games from non-Fall seasons, put in data frame\n",
    "IndCricket = []\n",
    "for season in IndSeas:\n",
    "    crick = season.where(season['Game'] == 'Cricket')\n",
    "    IndCricket.append(crick)\n",
    "    \n",
    "IndCrick = pd.concat(IndCricket)\n",
    "IndCrick.dropna()"
   ]
  },
  {
   "cell_type": "code",
   "execution_count": 290,
   "metadata": {},
   "outputs": [],
   "source": [
    "# Export to csv\n",
    "IndCrick.to_csv(\"WCD_TeamS_Cricket.csv\")"
   ]
  },
  {
   "cell_type": "markdown",
   "metadata": {},
   "source": [
    "## Starting Point After Seasons Indexed and Cricket Separated"
   ]
  },
  {
   "cell_type": "code",
   "execution_count": 4,
   "metadata": {},
   "outputs": [],
   "source": [
    "# Load Cricket Data\n",
    "IndCrick = pd.read_csv(\"Data/WCD_TeamS_Cricket.csv\")"
   ]
  },
  {
   "cell_type": "code",
   "execution_count": 262,
   "metadata": {},
   "outputs": [
    {
     "data": {
      "text/plain": [
       "<AxesSubplot:xlabel='Season_Day', ylabel='3DA'>"
      ]
     },
     "execution_count": 262,
     "metadata": {},
     "output_type": "execute_result"
    },
    {
     "data": {
      "image/png": "[encoded data removed]",
      "text/plain": [
       "<Figure size 432x288 with 1 Axes>"
      ]
     },
     "metadata": {},
     "output_type": "display_data"
    }
   ],
   "source": [
    "# Single season indexed 3DA plot\n",
    "sns.set_theme(style=\"whitegrid\")\n",
    "sns.scatterplot(x=\"Season_Day\", y=\"3DA\",\n",
    "             data=W20Crick)"
   ]
  },
  {
   "cell_type": "code",
   "execution_count": 235,
   "metadata": {},
   "outputs": [],
   "source": [
    "# Define function for team's season 3DA averages\n",
    "def teamavg(teamseason):\n",
    "    teamseason = []\n",
    "    for teamwk in teamseason:\n",
    "        teamseason.append([teamwk['Season_Day'], teamwk['Team'], teamwk['3DA']])\n",
    "    return teamseason"
   ]
  },
  {
   "cell_type": "markdown",
   "metadata": {},
   "source": [
    "### *Use VLookup for Season Averages (Excel)*"
   ]
  },
  {
   "cell_type": "code",
   "execution_count": 10,
   "metadata": {},
   "outputs": [
    {
     "data": {
      "image/png": "[encoded data removed]",
      "text/plain": [
       "<Figure size 864x360 with 1 Axes>"
      ]
     },
     "metadata": {},
     "output_type": "display_data"
    }
   ],
   "source": [
    "# Plot of indexed season 3DAs\n",
    "sns.set_theme(style=\"whitegrid\",\n",
    "              palette = sns.color_palette(\"Spectral\"))\n",
    "\n",
    "f, ax = plt.subplots(figsize=(12, 5))\n",
    "sns.despine(f)\n",
    "\n",
    "sns.barplot(x=\"Season_Day\", y=\"3DA\",\n",
    "             data=IndCrick)\n",
    "\n",
    "plt.title('Season Day vs 3DA',family='serif',fontsize = 20,\n",
    "          loc='right',color='r')\n",
    "\n",
    "plt.xlabel('Day of the Season',fontsize = 14,family='serif', color='r')\n",
    "plt.ylabel('3 Dart Average - Cricket',fontsize = 14,family='serif', color='r')\n",
    "\n",
    "plt.savefig('WCD_Heart_Attack2.png')"
   ]
  },
  {
   "cell_type": "code",
   "execution_count": null,
   "metadata": {},
   "outputs": [],
   "source": []
  }
 ],
 "metadata": {
  "kernelspec": {
   "display_name": "Python 3",
   "language": "python",
   "name": "python3"
  },
  "language_info": {
   "codemirror_mode": {
    "name": "ipython",
    "version": 3
   },
   "file_extension": ".py",
   "mimetype": "text/x-python",
   "name": "python",
   "nbconvert_exporter": "python",
   "pygments_lexer": "ipython3",
   "version": "3.8.5"
  }
 },
 "nbformat": 4,
 "nbformat_minor": 4
}
