{
 "cells": [
  {
   "cell_type": "code",
   "execution_count": 1,
   "metadata": {},
   "outputs": [],
   "source": [
    "import pandas as pd\n",
    "import numpy as np\n",
    "from bs4 import BeautifulSoup\n",
    "import requests"
   ]
  },
  {
   "cell_type": "code",
   "execution_count": 2,
   "metadata": {},
   "outputs": [],
   "source": [
    "url = 'https://members.dartconnect.com/history/report/players/match/5e5484ad3bd5632f1d4d85d4'\n",
    "\n",
    "response = requests.get(url)"
   ]
  },
  {
   "cell_type": "code",
   "execution_count": 3,
   "metadata": {},
   "outputs": [],
   "source": [
    "page = response.text"
   ]
  },
  {
   "cell_type": "code",
   "execution_count": 4,
   "metadata": {},
   "outputs": [],
   "source": [
    "soup = BeautifulSoup(page, \"lxml\")"
   ]
  },
  {
   "cell_type": "code",
   "execution_count": 5,
   "metadata": {},
   "outputs": [
    {
     "name": "stdout",
     "output_type": "stream",
     "text": [
      "02-24-20\n"
     ]
    }
   ],
   "source": [
    "#Find and set the date\n",
    "datematch = soup.h2.next_element.next_element\n",
    "daydate = datematch.td.text\n",
    "day = daydate[0:3]\n",
    "pdate = daydate[-8:]\n",
    "if (pdate[0] == \" \"):\n",
    "    date = '0' + pdate[1:]\n",
    "else:\n",
    "    date = pdate\n",
    "print(date)"
   ]
  },
  {
   "cell_type": "code",
   "execution_count": 6,
   "metadata": {
    "scrolled": true
   },
   "outputs": [],
   "source": [
    "#Identify game detail table\n",
    "game_pp = soup.find(class_=\"freeTable playerPref\")"
   ]
  },
  {
   "cell_type": "code",
   "execution_count": 7,
   "metadata": {},
   "outputs": [],
   "source": [
    "#Break table into rows\n",
    "rows = [row for row in game_pp.find_all(\"tr\")]"
   ]
  },
  {
   "cell_type": "code",
   "execution_count": 8,
   "metadata": {},
   "outputs": [],
   "source": [
    "#Make function to convert html rows to leg sets\n",
    "def leggify(x):\n",
    "    gmst = []\n",
    "    for i in x:\n",
    "        if (i.text == '') or (i.text == '\\xa0'):\n",
    "            gmst.append(0)\n",
    "        else:\n",
    "            gmst.append(i.get_text())\n",
    "    return gmst"
   ]
  },
  {
   "cell_type": "code",
   "execution_count": 9,
   "metadata": {},
   "outputs": [],
   "source": [
    "#Create a set of leg sets\n",
    "all_legs = []\n",
    "for row in rows[1:]:\n",
    "    rowset = row.find_all('td')\n",
    "    pleg = [leggify(rowset)]\n",
    "    all_legs.append(pleg)\n",
    "    \n",
    "#Remove match separator rows\n",
    "for leg in all_legs:\n",
    "    if (leg[0][1] == 0):\n",
    "        all_legs.remove(leg)"
   ]
  },
  {
   "cell_type": "code",
   "execution_count": 10,
   "metadata": {},
   "outputs": [],
   "source": [
    "#Define Player Name function\n",
    "def PName(matches):\n",
    "    PName = []\n",
    "    for leg in matches:\n",
    "        if leg[0][0] == 0:\n",
    "            PName.append(leg[0][1])\n",
    "        else:\n",
    "            PName.append(leg[0][2])\n",
    "    return PName"
   ]
  },
  {
   "cell_type": "code",
   "execution_count": 11,
   "metadata": {},
   "outputs": [],
   "source": [
    "#Define Leg Code function\n",
    "def LegCode(matches):\n",
    "    LegCode = []\n",
    "    for leg in matches:\n",
    "        if leg[0][0] != 0:\n",
    "            thisleg = leg[0][0]\n",
    "            LegCode.append(leg[0][0])\n",
    "        else:\n",
    "            LegCode.append(thisleg)\n",
    "    return LegCode"
   ]
  },
  {
   "cell_type": "code",
   "execution_count": 12,
   "metadata": {},
   "outputs": [],
   "source": [
    "#Define Game Name function\n",
    "def Game(matches):\n",
    "    Game = []\n",
    "    for leg in matches:\n",
    "        if leg[0][0] != 0:\n",
    "            thisgame = leg[0][1]\n",
    "            Game.append(leg[0][1])\n",
    "        else:\n",
    "            Game.append(thisgame)\n",
    "    return Game"
   ]
  },
  {
   "cell_type": "code",
   "execution_count": 13,
   "metadata": {},
   "outputs": [],
   "source": [
    "#Define Player 3 Dart Average function\n",
    "def P3DA(matches):\n",
    "    P3DA = []\n",
    "    for leg in matches:\n",
    "        if leg[0][0] != 0:\n",
    "            P3DA.append(leg[0][5])\n",
    "        elif (leg[0][0] == 0) & (leg[0][4] == 0):\n",
    "            P3DA.append(leg[0][2])\n",
    "        else:\n",
    "            P3DA.append(leg[0][4])\n",
    "    return P3DA"
   ]
  },
  {
   "cell_type": "code",
   "execution_count": 14,
   "metadata": {},
   "outputs": [],
   "source": [
    "#Define Leg Win Function\n",
    "def LegWin(matches):\n",
    "    LegWin = []\n",
    "    for leg in matches:\n",
    "        if leg[0][0] != 0:\n",
    "            LegWin.append(leg[0][9])\n",
    "        elif (leg[0][0] == 0) & (leg[0][4] == 0):\n",
    "            LegWin.append(leg[0][6])\n",
    "        else:\n",
    "            LegWin.append(leg[0][8])\n",
    "    return LegWin"
   ]
  },
  {
   "cell_type": "code",
   "execution_count": 15,
   "metadata": {},
   "outputs": [],
   "source": [
    "gametable = pd.DataFrame(\n",
    "            {\n",
    "                \"Date\": date,\n",
    "                \"Player\": PName(all_legs),\n",
    "                \"Leg Code\": LegCode(all_legs),\n",
    "                \"Game\": Game(all_legs),\n",
    "                \"3DA\": pd.Series(P3DA(all_legs), dtype=\"float64\"),\n",
    "                \"W/A\": LegWin(all_legs)\n",
    "            })"
   ]
  },
  {
   "cell_type": "code",
   "execution_count": 16,
   "metadata": {},
   "outputs": [
    {
     "data": {
      "text/html": [
       "<div>\n",
       "<style scoped>\n",
       "    .dataframe tbody tr th:only-of-type {\n",
       "        vertical-align: middle;\n",
       "    }\n",
       "\n",
       "    .dataframe tbody tr th {\n",
       "        vertical-align: top;\n",
       "    }\n",
       "\n",
       "    .dataframe thead th {\n",
       "        text-align: right;\n",
       "    }\n",
       "</style>\n",
       "<table border=\"1\" class=\"dataframe\">\n",
       "  <thead>\n",
       "    <tr style=\"text-align: right;\">\n",
       "      <th></th>\n",
       "      <th>Date</th>\n",
       "      <th>Player</th>\n",
       "      <th>Leg Code</th>\n",
       "      <th>Game</th>\n",
       "      <th>3DA</th>\n",
       "      <th>W/A</th>\n",
       "    </tr>\n",
       "  </thead>\n",
       "  <tbody>\n",
       "    <tr>\n",
       "      <th>0</th>\n",
       "      <td>02-24-20</td>\n",
       "      <td>Josh Shapiro</td>\n",
       "      <td>1.1</td>\n",
       "      <td>501 SIDO</td>\n",
       "      <td>34.7</td>\n",
       "      <td>0</td>\n",
       "    </tr>\n",
       "    <tr>\n",
       "      <th>1</th>\n",
       "      <td>02-24-20</td>\n",
       "      <td>Michael Vonder Haar</td>\n",
       "      <td>1.1</td>\n",
       "      <td>501 SIDO</td>\n",
       "      <td>36.7</td>\n",
       "      <td>W</td>\n",
       "    </tr>\n",
       "    <tr>\n",
       "      <th>2</th>\n",
       "      <td>02-24-20</td>\n",
       "      <td>Josh Shapiro</td>\n",
       "      <td>1.2</td>\n",
       "      <td>501 SIDO</td>\n",
       "      <td>39.5</td>\n",
       "      <td>W</td>\n",
       "    </tr>\n",
       "    <tr>\n",
       "      <th>3</th>\n",
       "      <td>02-24-20</td>\n",
       "      <td>Michael Vonder Haar</td>\n",
       "      <td>1.2</td>\n",
       "      <td>501 SIDO</td>\n",
       "      <td>40.0</td>\n",
       "      <td>0</td>\n",
       "    </tr>\n",
       "    <tr>\n",
       "      <th>4</th>\n",
       "      <td>02-24-20</td>\n",
       "      <td>Josh Shapiro</td>\n",
       "      <td>1.3</td>\n",
       "      <td>501 SIDO</td>\n",
       "      <td>24.6</td>\n",
       "      <td>0</td>\n",
       "    </tr>\n",
       "    <tr>\n",
       "      <th>5</th>\n",
       "      <td>02-24-20</td>\n",
       "      <td>Michael Vonder Haar</td>\n",
       "      <td>1.3</td>\n",
       "      <td>501 SIDO</td>\n",
       "      <td>25.9</td>\n",
       "      <td>W</td>\n",
       "    </tr>\n",
       "    <tr>\n",
       "      <th>6</th>\n",
       "      <td>02-24-20</td>\n",
       "      <td>Matthew Mann</td>\n",
       "      <td>2.1</td>\n",
       "      <td>301 DIDO</td>\n",
       "      <td>40.0</td>\n",
       "      <td>W</td>\n",
       "    </tr>\n",
       "    <tr>\n",
       "      <th>7</th>\n",
       "      <td>02-24-20</td>\n",
       "      <td>Sam Morgan</td>\n",
       "      <td>2.1</td>\n",
       "      <td>301 DIDO</td>\n",
       "      <td>47.0</td>\n",
       "      <td>A</td>\n",
       "    </tr>\n",
       "    <tr>\n",
       "      <th>8</th>\n",
       "      <td>02-24-20</td>\n",
       "      <td>Christopher Quinn</td>\n",
       "      <td>2.1</td>\n",
       "      <td>301 DIDO</td>\n",
       "      <td>35.5</td>\n",
       "      <td>0</td>\n",
       "    </tr>\n",
       "    <tr>\n",
       "      <th>9</th>\n",
       "      <td>02-24-20</td>\n",
       "      <td>Will Moore</td>\n",
       "      <td>2.1</td>\n",
       "      <td>301 DIDO</td>\n",
       "      <td>47.7</td>\n",
       "      <td>0</td>\n",
       "    </tr>\n",
       "    <tr>\n",
       "      <th>10</th>\n",
       "      <td>02-24-20</td>\n",
       "      <td>Sam Morgan</td>\n",
       "      <td>2.2</td>\n",
       "      <td>Cricket</td>\n",
       "      <td>2.4</td>\n",
       "      <td>0</td>\n",
       "    </tr>\n",
       "    <tr>\n",
       "      <th>11</th>\n",
       "      <td>02-24-20</td>\n",
       "      <td>Matthew Mann</td>\n",
       "      <td>2.2</td>\n",
       "      <td>Cricket</td>\n",
       "      <td>1.0</td>\n",
       "      <td>0</td>\n",
       "    </tr>\n",
       "  </tbody>\n",
       "</table>\n",
       "</div>"
      ],
      "text/plain": [
       "        Date               Player Leg Code      Game   3DA W/A\n",
       "0   02-24-20         Josh Shapiro      1.1  501 SIDO  34.7   0\n",
       "1   02-24-20  Michael Vonder Haar      1.1  501 SIDO  36.7   W\n",
       "2   02-24-20         Josh Shapiro      1.2  501 SIDO  39.5   W\n",
       "3   02-24-20  Michael Vonder Haar      1.2  501 SIDO  40.0   0\n",
       "4   02-24-20         Josh Shapiro      1.3  501 SIDO  24.6   0\n",
       "5   02-24-20  Michael Vonder Haar      1.3  501 SIDO  25.9   W\n",
       "6   02-24-20         Matthew Mann      2.1  301 DIDO  40.0   W\n",
       "7   02-24-20           Sam Morgan      2.1  301 DIDO  47.0   A\n",
       "8   02-24-20    Christopher Quinn      2.1  301 DIDO  35.5   0\n",
       "9   02-24-20           Will Moore      2.1  301 DIDO  47.7   0\n",
       "10  02-24-20           Sam Morgan      2.2   Cricket   2.4   0\n",
       "11  02-24-20         Matthew Mann      2.2   Cricket   1.0   0"
      ]
     },
     "execution_count": 16,
     "metadata": {},
     "output_type": "execute_result"
    }
   ],
   "source": [
    "gametable.head(12)"
   ]
  },
  {
   "cell_type": "code",
   "execution_count": null,
   "metadata": {},
   "outputs": [],
   "source": [
    "#Create function that extracts match data from match ID\n"
   ]
  },
  {
   "cell_type": "code",
   "execution_count": 17,
   "metadata": {},
   "outputs": [],
   "source": [
    "match = '5e5484ad3bd5632f1d4d85d4'\n",
    "summarypage = 'https://members.dartconnect.com/history/report/match/' + str(match)\n",
    "getsummary = requests.get(summarypage)\n",
    "psoup = BeautifulSoup(getsummary.text, 'lxml')\n"
   ]
  },
  {
   "cell_type": "code",
   "execution_count": 18,
   "metadata": {},
   "outputs": [
    {
     "data": {
      "text/plain": [
       "'<!DOCTYPE html>\\n<html>\\n <head>\\n  <title>\\n   MR: 85d4\\n  </title>\\n  <link href=\"/images/favicon.png\" rel=\"shortcut icon\"/>\\n  <link href=\"/css/reports.css\" rel=\"stylesheet\"/>\\n </head>\\n <body>\\n  <!-- Google Tag Manager -->\\n  <noscript>\\n   <iframe height=\"0\" src=\"//www.googletagmanager.com/ns.html?id=GTM-5RV476\" style=\"display:none;visibility:hidden\" width=\"0\">\\n   </iframe>\\n  </noscript>\\n  <script>\\n   (function(w,d,s,l,i){w[l]=w[l]||[];w[l].push({\\'gtm.start\\':new Date().getTime(),event:\\'gtm.js\\'});var f=d.getElementsByTagName(s)[0],j=d.createElement(s),dl=l!=\\'dataLayer\\'?\\'&l=\\'+l:\\'\\';j.async=true;j.src=\\'//www.googletagmanager.com/gtm.js?id=\\'+i+dl;f.parentNode.insertBefore(j,f);})(window,document,\\'script\\',\\'dataLayer\\',\\'GTM-5RV476\\');\\n  </script>\\n  <!-- End Google Tag Manager -->\\n  <div class=\"report-container\">\\n   <div class=\"report-header\">\\n    <table border=\"0\" class=\"freeTable\" width=\"800\">\\n     <tr>\\n      <td align=\"center\" width=\"140\">\\n       <a href=\"https://tv.dartconnect.com/leaguematches/wcdo\">\\n        <img height=\"100\" src=\"/images/dctv_icon.png\" width=\"100\"/>\\n       </a>\\n       <br/>\\n       <a class=\"smallHeaderLink\" href=\"https://tv.dartconnect.com/leaguematches/wcdo\">\\n        More Darts!\\n       </a>\\n      </td>\\n      <td align=\"center\" width=\"520\">\\n       <h1 class=\"match-title\">\\n        Match Summary\\n       </h1>\\n       <a href=\"https://leaderboard.dartconnect.com/leaderboard#l-u46t_1363_all-all_01-all-all-all-all-all\">\\n        View Leaderboard\\n       </a>\\n       <br/>\\n       <a href=\"https://tv.dartconnect.com/leaguestandings/wcdo/1363/6266\">\\n        View Division Standings\\n       </a>\\n      </td>\\n      <td align=\"center\" width=\"140\">\\n       <a class=\"subtle-link\" href=\"https://www.dartconnect.com\" target=\"wwwdartconnect\">\\n        <img id=\"dc_member_logo\" src=\"/images/dc_member_logo.png\"/>\\n       </a>\\n       <br/>\\n       <a class=\"smallHeaderLink\" href=\"https://www.dartconnect.com\" target=\"blank\">\\n        Learn More\\n       </a>\\n      </td>\\n     </tr>\\n    </table>\\n    <table border=\"0\" class=\"freeTable matchHeaderStats\" width=\"800\">\\n     <tr>\\n      <td align=\"center\" colspan=\"9\">\\n       <h2>\\n        WCDO • Windy City Darters - Open (Online)\\n       </h2>\\n      </td>\\n     </tr>\\n     <tr>\\n      <th align=\"left\" class=\"leftCellPad\">\\n       Date:\\n      </th>\\n      <td align=\"right\">\\n       Mon, 2-24-20\\n      </td>\\n      <td class=\"paddedCell\">\\n      </td>\\n      <th align=\"left\">\\n       Game Time:\\n      </th>\\n      <td align=\"right\">\\n       2:47\\n      </td>\\n      <td class=\"paddedCell\">\\n      </td>\\n      <th align=\"left\">\\n       Matches:\\n      </th>\\n      <td align=\"right\">\\n       1\\n      </td>\\n      <td class=\"paddedCell\">\\n      </td>\\n     </tr>\\n     <tr>\\n      <th align=\"left\" class=\"leftCellPad\">\\n       Start:\\n      </th>\\n      <td align=\"right\">\\n       8:10 PM\\n      </td>\\n      <td class=\"paddedCell\">\\n      </td>\\n      <th align=\"left\">\\n       Match Length:\\n      </th>\\n      <td align=\"right\">\\n       3:29\\n      </td>\\n      <td class=\"paddedCell\">\\n      </td>\\n      <th align=\"left\">\\n       Games:\\n      </th>\\n      <td align=\"right\">\\n       21\\n      </td>\\n      <td class=\"paddedCell\">\\n      </td>\\n     </tr>\\n     <tr>\\n      <th align=\"left\" class=\"leftCellPad\">\\n       End:\\n      </th>\\n      <td align=\"right\">\\n       11:40 PM\\n      </td>\\n      <td class=\"paddedCell\">\\n      </td>\\n      <th align=\"left\">\\n       DER:\\n      </th>\\n      <td align=\"right\">\\n       80%\\n      </td>\\n      <td class=\"paddedCell\">\\n      </td>\\n      <th align=\"left\">\\n       Darts:\\n      </th>\\n      <td align=\"right\">\\n       1,309\\n      </td>\\n      <td class=\"paddedCell\">\\n      </td>\\n     </tr>\\n    </table>\\n   </div>\\n   <div class=\"navrow-container\">\\n    <table border=\"0\" width=\"100%\">\\n     <tr>\\n      <td align=\"right\" style=\"font-style: italic;\">\\n       Select Report:\\n      </td>\\n      <td align=\"center\">\\n       <h2>\\n        Summary\\n       </h2>\\n      </td>\\n      <td align=\"center\">\\n       <a href=\"/history/report/games/match/5e5484ad3bd5632f1d4d85d4\">\\n        Game Detail\\xa0&gt;\\n       </a>\\n      </td>\\n      <td align=\"center\">\\n       <a href=\"/history/report/players/match/5e5484ad3bd5632f1d4d85d4\">\\n        Player Performance\\xa0&gt;\\n       </a>\\n      </td>\\n      <td align=\"center\">\\n       <a href=\"/history/report/counts/match/5e5484ad3bd5632f1d4d85d4\">\\n        Match Counts\\xa0&gt;\\n       </a>\\n      </td>\\n      <td align=\"center\">\\n       <a href=\"/#dashboard\" target=\"membersite\">\\n        My DCA\\xa0&gt;\\n       </a>\\n      </td>\\n     </tr>\\n    </table>\\n   </div>\\n   <div class=\"match-summary\">\\n    <table border=\"0\" class=\"borderTable\" width=\"100%\">\\n     <tr>\\n      <td class=\"match_summary_header\" width=\"155\">\\n       Opponents\\n      </td>\\n      <td width=\"1\">\\n      </td>\\n      <td class=\"match_summary_header\" colspan=\"3\">\\n       Match\\n      </td>\\n      <td width=\"1\">\\n      </td>\\n      <td class=\"match_summary_header\" colspan=\"3\">\\n       All \\'01 Games\\n      </td>\\n      <td width=\"1\">\\n      </td>\\n      <td class=\"match_summary_header\" colspan=\"3\">\\n       All Cricket Games\\n      </td>\\n     </tr>\\n     <tr>\\n      <td class=\"match_summary_header\">\\n      </td>\\n      <td>\\n      </td>\\n      <td class=\"match_summary_header\">\\n       Score\\n      </td>\\n      <td class=\"match_summary_header\">\\n       Sets\\n      </td>\\n      <td class=\"match_summary_header\">\\n       Games\\n      </td>\\n      <td>\\n      </td>\\n      <td class=\"match_summary_header\">\\n       Points\\n      </td>\\n      <td class=\"match_summary_header\">\\n       Darts\\n      </td>\\n      <td class=\"match_summary_header\">\\n       PPR\\n      </td>\\n      <td>\\n      </td>\\n      <td class=\"match_summary_header\">\\n       Marks\\n      </td>\\n      <td class=\"match_summary_header\">\\n       Darts\\n      </td>\\n      <td class=\"match_summary_header\">\\n       MPR\\n      </td>\\n     </tr>\\n     <tr>\\n      <td align=\"right\">\\n       <span class=\"opponentName\">\\n        140 Darts\\n       </span>\\n      </td>\\n      <td>\\n      </td>\\n      <td class=\"data\">\\n       1\\n      </td>\\n      <td class=\"data\">\\n       1\\n      </td>\\n      <td class=\"data\">\\n       5\\n      </td>\\n      <td>\\n      </td>\\n      <td class=\"data\">\\n       4,760\\n      </td>\\n      <td class=\"data\">\\n       406\\n      </td>\\n      <td class=\"data\">\\n       35.2\\n      </td>\\n      <td>\\n      </td>\\n      <td class=\"data\">\\n       169\\n      </td>\\n      <td class=\"data\">\\n       245\\n      </td>\\n      <td class=\"data\">\\n       2.1\\n      </td>\\n     </tr>\\n     <tr class=\"lowerBorder\">\\n      <td align=\"right\">\\n       <span class=\"opponentName\">\\n        Flights Templar\\n       </span>\\n      </td>\\n      <td>\\n      </td>\\n      <td class=\"data\">\\n       8\\n      </td>\\n      <td class=\"data\">\\n       8\\n      </td>\\n      <td class=\"data\">\\n       16\\n      </td>\\n      <td>\\n      </td>\\n      <td class=\"data\">\\n       5,279\\n      </td>\\n      <td class=\"data\">\\n       406\\n      </td>\\n      <td class=\"data\">\\n       39.0\\n      </td>\\n      <td>\\n      </td>\\n      <td class=\"data\">\\n       212\\n      </td>\\n      <td class=\"data\">\\n       252\\n      </td>\\n      <td class=\"data\">\\n       2.5\\n      </td>\\n     </tr>\\n     <tr class=\"totalsRow\">\\n      <td align=\"right\">\\n       <span class=\"opponentName\" style=\"font-size: 14px;\">\\n        All Games Played (AGP)\\n       </span>\\n      </td>\\n      <td>\\n      </td>\\n      <td class=\"data\">\\n       n/a\\n      </td>\\n      <td class=\"data\">\\n       9\\n      </td>\\n      <td class=\"data\">\\n       21\\n      </td>\\n      <td>\\n      </td>\\n      <td class=\"data\">\\n       10,039\\n      </td>\\n      <td class=\"data\">\\n       812\\n      </td>\\n      <td class=\"data\">\\n       37.1\\n      </td>\\n      <td>\\n      </td>\\n      <td class=\"data\">\\n       381\\n      </td>\\n      <td class=\"data\">\\n       497\\n      </td>\\n      <td class=\"data\">\\n       2.3\\n      </td>\\n     </tr>\\n    </table>\\n   </div>\\n   <div class=\"banner-container\">\\n    <a href=\"https://www.dartconnect.com/videoconnect/\" target=\"_new\">\\n     <img class=\"other-dc-videoconnect\" src=\"https://www.dartconnect.com/b/dc-videoconnect-large.jpg\" width=\"100%\"/>\\n    </a>\\n   </div>\\n   <div class=\"game-summary\">\\n    <table border=\"0\" class=\"freeTable game-summary-data\" width=\"800\">\\n     <tr>\\n      <td class=\"table-margin\" width=\"40\">\\n      </td>\\n      <td width=\"60\">\\n      </td>\\n      <td width=\"45\">\\n      </td>\\n      <td width=\"151\">\\n      </td>\\n      <td width=\"32\">\\n      </td>\\n      <td width=\"40\">\\n      </td>\\n      <td width=\"64\">\\n      </td>\\n      <td width=\"40\">\\n      </td>\\n      <td width=\"32\">\\n      </td>\\n      <td width=\"151\">\\n      </td>\\n      <td width=\"45\">\\n      </td>\\n      <td width=\"60\">\\n      </td>\\n      <td class=\"table-margin\" width=\"40\">\\n      </td>\\n     </tr>\\n     <tr class=\"sumaryBoardHeader\">\\n      <td class=\"table-margin\" rowspan=\"2\" valign=\"bottom\">\\n      </td>\\n      <td>\\n      </td>\\n      <td align=\"center\" colspan=\"3\">\\n       <span class=\"playerNameHeader\">\\n        140 Darts\\n       </span>\\n      </td>\\n      <td align=\"center\" colspan=\"3\">\\n       <img height=\"38\" src=\"/images/header_logo.png\" style=\"margin-top: 4px;\" width=\"68\"/>\\n      </td>\\n      <td align=\"center\" colspan=\"3\">\\n       <span class=\"playerNameHeader\">\\n        Flights Templar\\n       </span>\\n      </td>\\n      <td>\\n      </td>\\n      <td class=\"table-margin\" rowspan=\"2\" valign=\"bottom\">\\n      </td>\\n     </tr>\\n     <tr class=\"sumaryBoardLabels\">\\n      <td align=\"center\">\\n       Leg\\n      </td>\\n      <td class=\"dataPad\">\\n       3DA\\n      </td>\\n      <td class=\"dataPadCenter\">\\n       Players\\n      </td>\\n      <td>\\n      </td>\\n      <td align=\"center\">\\n       Score\\n      </td>\\n      <td>\\n      </td>\\n      <td align=\"center\">\\n       Score\\n      </td>\\n      <td>\\n      </td>\\n      <td class=\"dataPadCenter\">\\n       Players\\n      </td>\\n      <td class=\"dataPad\">\\n       3DA\\n      </td>\\n      <td align=\"center\">\\n       Darts\\n      </td>\\n     </tr>\\n     <tr class=\"color1\">\\n      <td class=\"table-margin\">\\n      </td>\\n      <td align=\"center\" class=\"borderRight\" valign=\"middle\">\\n       1.1\\n      </td>\\n      <td class=\"dataPad\" valign=\"middle\">\\n       34.7\\n      </td>\\n      <td class=\"dataPadLeft endSetNameCol\" rowspan=\"3\" valign=\"middle\">\\n       <span class=\"playerName\">\\n        Josh  Shapiro\\n       </span>\\n      </td>\\n      <td class=\"winmarker\">\\n      </td>\\n      <td class=\"dataPad\" valign=\"middle\">\\n       50\\n      </td>\\n      <td align=\"center\" class=\"game-type-col\" style=\"font-weight: bold;\" valign=\"middle\">\\n       501\\n      </td>\\n      <td class=\"dataPad winScore\" valign=\"middle\">\\n       0\\n      </td>\\n      <td class=\"winmarker\">\\n       ♦\\n      </td>\\n      <td class=\"dataPadLeft endSetNameCol\" rowspan=\"3\" valign=\"middle\">\\n       <span class=\"playerName\">\\n        M.  Vonder Haar\\n       </span>\\n      </td>\\n      <td class=\"dataPad\" valign=\"middle\">\\n       36.7\\n      </td>\\n      <td align=\"center\" class=\"borderLeft\" valign=\"middle\">\\n       41\\n      </td>\\n      <td class=\"table-margin\">\\n      </td>\\n     </tr>\\n     <tr class=\"color1\">\\n      <td class=\"table-margin\">\\n      </td>\\n      <td align=\"center\" class=\"borderRight\" valign=\"middle\">\\n       1.2\\n      </td>\\n      <td class=\"dataPad\" valign=\"middle\">\\n       39.6\\n      </td>\\n      <td class=\"winmarker\">\\n       ♦\\n      </td>\\n      <td class=\"dataPad winScore\" valign=\"middle\">\\n       0\\n      </td>\\n      <td align=\"center\" class=\"game-type-col\" style=\"font-weight: bold;\" valign=\"middle\">\\n       501\\n      </td>\\n      <td class=\"dataPad\" valign=\"middle\">\\n       21\\n      </td>\\n      <td class=\"winmarker\">\\n      </td>\\n      <td class=\"dataPad\" valign=\"middle\">\\n       40.0\\n      </td>\\n      <td align=\"center\" class=\"borderLeft\" valign=\"middle\">\\n       38\\n      </td>\\n      <td class=\"table-margin\">\\n      </td>\\n     </tr>\\n     <tr class=\"color1 endSet\">\\n      <td class=\"table-margin\">\\n      </td>\\n      <td align=\"center\" class=\"borderRight\" valign=\"middle\">\\n       1.3\\n      </td>\\n      <td class=\"dataPad\" valign=\"middle\">\\n       24.7\\n      </td>\\n      <td class=\"winmarker\">\\n      </td>\\n      <td class=\"dataPad\" valign=\"middle\">\\n       8\\n      </td>\\n      <td align=\"center\" class=\"game-type-col\" style=\"font-weight: bold;\" valign=\"middle\">\\n       501\\n      </td>\\n      <td class=\"dataPad winScore\" valign=\"middle\">\\n       0\\n      </td>\\n      <td class=\"winmarker\" valign=\"middle\">\\n       ★\\n      </td>\\n      <td class=\"dataPad\" valign=\"middle\">\\n       25.9\\n      </td>\\n      <td align=\"center\" class=\"borderLeft\" valign=\"middle\">\\n       58\\n      </td>\\n      <td class=\"table-margin\">\\n      </td>\\n     </tr>\\n     <tr class=\"color2\">\\n      <td class=\"table-margin\">\\n      </td>\\n      <td align=\"center\" class=\"borderRight\" valign=\"middle\">\\n       2.1\\n      </td>\\n      <td class=\"dataPad\" valign=\"middle\">\\n       43.0\\n      </td>\\n      <td class=\"dataPadLeft endSetNameCol\" rowspan=\"3\" valign=\"middle\">\\n       <span class=\"playerName\">\\n        Matthew  Mann\\n       </span>\\n       <br/>\\n       <span class=\"playerName\">\\n        Sam  Morgan\\n       </span>\\n      </td>\\n      <td class=\"winmarker\">\\n       ♦\\n      </td>\\n      <td class=\"dataPad winScore\" valign=\"middle\">\\n       0\\n      </td>\\n      <td align=\"center\" class=\"game-type-col\" style=\"font-weight: bold;\" valign=\"middle\">\\n       301\\n      </td>\\n      <td class=\"dataPad\" valign=\"middle\">\\n       16\\n      </td>\\n      <td class=\"winmarker\">\\n      </td>\\n      <td class=\"dataPadLeft endSetNameCol\" rowspan=\"3\" valign=\"middle\">\\n       <span class=\"playerName\">\\n        Christopher  Quinn\\n       </span>\\n       <br/>\\n       <span class=\"playerName\">\\n        Will  Moore\\n       </span>\\n      </td>\\n      <td class=\"dataPad\" valign=\"middle\">\\n       40.7\\n      </td>\\n      <td align=\"center\" class=\"borderLeft\" valign=\"middle\">\\n       21\\n      </td>\\n      <td class=\"table-margin\">\\n      </td>\\n     </tr>\\n     <tr class=\"color2\">\\n      <td class=\"table-margin\">\\n      </td>\\n      <td align=\"center\" class=\"borderRight\" valign=\"middle\">\\n       2.2\\n      </td>\\n      <td class=\"dataPad\" valign=\"middle\">\\n       1.8\\n      </td>\\n      <td class=\"winmarker\">\\n      </td>\\n      <td class=\"dataPad\" valign=\"middle\">\\n       67\\n      </td>\\n      <td align=\"center\" class=\"game-type-col\" style=\"font-weight: bold;\" valign=\"middle\">\\n       Cricket\\n      </td>\\n      <td class=\"dataPad winScore\" valign=\"middle\">\\n       91\\n      </td>\\n      <td class=\"winmarker\">\\n       ♦\\n      </td>\\n      <td class=\"dataPad\" valign=\"middle\">\\n       2.7\\n      </td>\\n      <td align=\"center\" class=\"borderLeft\" valign=\"middle\">\\n       29\\n      </td>\\n      <td class=\"table-margin\">\\n      </td>\\n     </tr>\\n     <tr class=\"color2 endSet\">\\n      <td class=\"table-margin\">\\n      </td>\\n      <td align=\"center\" class=\"borderRight\" valign=\"middle\">\\n       2.3\\n      </td>\\n      <td class=\"dataPad\" valign=\"middle\">\\n       50.9\\n      </td>\\n      <td class=\"winmarker\">\\n      </td>\\n      <td class=\"dataPad\" valign=\"middle\">\\n       94\\n      </td>\\n      <td align=\"center\" class=\"game-type-col\" style=\"font-weight: bold;\" valign=\"middle\">\\n       501\\n      </td>\\n      <td class=\"dataPad winScore\" valign=\"middle\">\\n       0\\n      </td>\\n      <td class=\"winmarker\" valign=\"middle\">\\n       ★\\n      </td>\\n      <td class=\"dataPad\" valign=\"middle\">\\n       60.1\\n      </td>\\n      <td align=\"center\" class=\"borderLeft\" valign=\"middle\">\\n       25\\n      </td>\\n      <td class=\"table-margin\">\\n      </td>\\n     </tr>\\n     <tr class=\"color1\">\\n      <td class=\"table-margin\">\\n      </td>\\n      <td align=\"center\" class=\"borderRight\" valign=\"middle\">\\n       3.1\\n      </td>\\n      <td class=\"dataPad\" valign=\"middle\">\\n       37.1\\n      </td>\\n      <td class=\"dataPadLeft endSetNameCol\" rowspan=\"2\" valign=\"middle\">\\n       <span class=\"playerName\">\\n        Alfonso  Vasquez\\n       </span>\\n      </td>\\n      <td class=\"winmarker\">\\n      </td>\\n      <td class=\"dataPad\" valign=\"middle\">\\n       4\\n      </td>\\n      <td align=\"center\" class=\"game-type-col\" style=\"font-weight: bold;\" valign=\"middle\">\\n       301\\n      </td>\\n      <td class=\"dataPad winScore\" valign=\"middle\">\\n       0\\n      </td>\\n      <td class=\"winmarker\">\\n       ♦\\n      </td>\\n      <td class=\"dataPadLeft endSetNameCol\" rowspan=\"2\" valign=\"middle\">\\n       <span class=\"playerName\">\\n        Kyle  Schrage\\n       </span>\\n      </td>\\n      <td class=\"dataPad\" valign=\"middle\">\\n       37.6\\n      </td>\\n      <td align=\"center\" class=\"borderLeft\" valign=\"middle\">\\n       24\\n      </td>\\n      <td class=\"table-margin\">\\n      </td>\\n     </tr>\\n     <tr class=\"color1 endSet\">\\n      <td class=\"table-margin\">\\n      </td>\\n      <td align=\"center\" class=\"borderRight\" valign=\"middle\">\\n       3.2\\n      </td>\\n      <td class=\"dataPad\" valign=\"middle\">\\n       29.7\\n      </td>\\n      <td class=\"winmarker\">\\n      </td>\\n      <td class=\"dataPad\" valign=\"middle\">\\n       4\\n      </td>\\n      <td align=\"center\" class=\"game-type-col\" style=\"font-weight: bold;\" valign=\"middle\">\\n       301\\n      </td>\\n      <td class=\"dataPad winScore\" valign=\"middle\">\\n       0\\n      </td>\\n      <td class=\"winmarker\" valign=\"middle\">\\n       ★\\n      </td>\\n      <td class=\"dataPad\" valign=\"middle\">\\n       31.1\\n      </td>\\n      <td align=\"center\" class=\"borderLeft\" valign=\"middle\">\\n       29\\n      </td>\\n      <td class=\"table-margin\">\\n      </td>\\n     </tr>\\n     <tr class=\"color2\">\\n      <td class=\"table-margin\">\\n      </td>\\n      <td align=\"center\" class=\"borderRight\" valign=\"middle\">\\n       4.1\\n      </td>\\n      <td class=\"dataPad\" valign=\"middle\">\\n       2.1\\n      </td>\\n      <td class=\"dataPadLeft endSetNameCol\" rowspan=\"2\" valign=\"middle\">\\n       <span class=\"playerName\">\\n        Sam  Morgan\\n       </span>\\n       <br/>\\n       <span class=\"playerName\">\\n        Erik  Lindholm\\n       </span>\\n      </td>\\n      <td class=\"winmarker\">\\n      </td>\\n      <td class=\"dataPad\" valign=\"middle\">\\n       197\\n      </td>\\n      <td align=\"center\" class=\"game-type-col\" style=\"font-weight: bold;\" valign=\"middle\">\\n       Cricket\\n      </td>\\n      <td class=\"dataPad winScore\" valign=\"middle\">\\n       233\\n      </td>\\n      <td class=\"winmarker\">\\n       ♦\\n      </td>\\n      <td class=\"dataPadLeft endSetNameCol\" rowspan=\"2\" valign=\"middle\">\\n       <span class=\"playerName\">\\n        Will  Moore\\n       </span>\\n       <br/>\\n       <span class=\"playerName\">\\n        Kyle  Schrage\\n       </span>\\n      </td>\\n      <td class=\"dataPad\" valign=\"middle\">\\n       3.1\\n      </td>\\n      <td align=\"center\" class=\"borderLeft\" valign=\"middle\">\\n       32\\n      </td>\\n      <td class=\"table-margin\">\\n      </td>\\n     </tr>\\n     <tr class=\"color2 endSet\">\\n      <td class=\"table-margin\">\\n      </td>\\n      <td align=\"center\" class=\"borderRight\" valign=\"middle\">\\n       4.2\\n      </td>\\n      <td class=\"dataPad\" valign=\"middle\">\\n       1.8\\n      </td>\\n      <td class=\"winmarker\">\\n      </td>\\n      <td class=\"dataPad\" valign=\"middle\">\\n       61\\n      </td>\\n      <td align=\"center\" class=\"game-type-col\" style=\"font-weight: bold;\" valign=\"middle\">\\n       Cricket\\n      </td>\\n      <td class=\"dataPad winScore\" valign=\"middle\">\\n       100\\n      </td>\\n      <td class=\"winmarker\" valign=\"middle\">\\n       ★\\n      </td>\\n      <td class=\"dataPad\" valign=\"middle\">\\n       2.3\\n      </td>\\n      <td align=\"center\" class=\"borderLeft\" valign=\"middle\">\\n       35\\n      </td>\\n      <td class=\"table-margin\">\\n      </td>\\n     </tr>\\n     <tr class=\"color1\">\\n      <td class=\"table-margin\">\\n      </td>\\n      <td align=\"center\" class=\"borderRight\" valign=\"middle\">\\n       5.1\\n      </td>\\n      <td class=\"dataPad\" valign=\"middle\">\\n       45.5\\n      </td>\\n      <td class=\"dataPadLeft endSetNameCol\" rowspan=\"2\" valign=\"middle\">\\n       <span class=\"playerName\">\\n        Matthew  Mann\\n       </span>\\n      </td>\\n      <td class=\"winmarker\">\\n      </td>\\n      <td class=\"dataPad\" valign=\"middle\">\\n       119\\n      </td>\\n      <td align=\"center\" class=\"game-type-col\" style=\"font-weight: bold;\" valign=\"middle\">\\n       301\\n      </td>\\n      <td class=\"dataPad winScore\" valign=\"middle\">\\n       0\\n      </td>\\n      <td class=\"winmarker\">\\n       ♦\\n      </td>\\n      <td class=\"dataPadLeft endSetNameCol\" rowspan=\"2\" valign=\"middle\">\\n       <span class=\"playerName\">\\n        Christopher  Quinn\\n       </span>\\n      </td>\\n      <td class=\"dataPad\" valign=\"middle\">\\n       64.5\\n      </td>\\n      <td align=\"center\" class=\"borderLeft\" valign=\"middle\">\\n       14\\n      </td>\\n      <td class=\"table-margin\">\\n      </td>\\n     </tr>\\n     <tr class=\"color1 endSet\">\\n      <td class=\"table-margin\">\\n      </td>\\n      <td align=\"center\" class=\"borderRight\" valign=\"middle\">\\n       5.2\\n      </td>\\n      <td class=\"dataPad\" valign=\"middle\">\\n       1.2\\n      </td>\\n      <td class=\"winmarker\">\\n      </td>\\n      <td class=\"dataPad\" valign=\"middle\">\\n       92\\n      </td>\\n      <td align=\"center\" class=\"game-type-col\" style=\"font-weight: bold;\" valign=\"middle\">\\n       Cricket\\n      </td>\\n      <td class=\"dataPad winScore\" valign=\"middle\">\\n       100\\n      </td>\\n      <td class=\"winmarker\" valign=\"middle\">\\n       ★\\n      </td>\\n      <td class=\"dataPad\" valign=\"middle\">\\n       1.9\\n      </td>\\n      <td align=\"center\" class=\"borderLeft\" valign=\"middle\">\\n       40\\n      </td>\\n      <td class=\"table-margin\">\\n      </td>\\n     </tr>\\n     <tr class=\"color2\">\\n      <td class=\"table-margin\">\\n      </td>\\n      <td align=\"center\" class=\"borderRight\" valign=\"middle\">\\n       6.1\\n      </td>\\n      <td class=\"dataPad\" valign=\"middle\">\\n       41.0\\n      </td>\\n      <td class=\"dataPadLeft endSetNameCol\" rowspan=\"2\" valign=\"middle\">\\n       <span class=\"playerName\">\\n        Matthew  Mann\\n       </span>\\n       <br/>\\n       <span class=\"playerName\">\\n        Erik  Lindholm\\n       </span>\\n      </td>\\n      <td class=\"winmarker\">\\n       ♦\\n      </td>\\n      <td class=\"dataPad winScore\" valign=\"middle\">\\n       0\\n      </td>\\n      <td align=\"center\" class=\"game-type-col\" style=\"font-weight: bold;\" valign=\"middle\">\\n       301\\n      </td>\\n      <td class=\"dataPad\" valign=\"middle\">\\n       95\\n      </td>\\n      <td class=\"winmarker\">\\n      </td>\\n      <td class=\"dataPadLeft endSetNameCol\" rowspan=\"2\" valign=\"middle\">\\n       <span class=\"playerName\">\\n        Christopher  Quinn\\n       </span>\\n       <br/>\\n       <span class=\"playerName\">\\n        M.  Vonder Haar\\n       </span>\\n      </td>\\n      <td class=\"dataPad\" valign=\"middle\">\\n       29.4\\n      </td>\\n      <td align=\"center\" class=\"borderLeft\" valign=\"middle\">\\n       22\\n      </td>\\n      <td class=\"table-margin\">\\n      </td>\\n     </tr>\\n     <tr class=\"color2 endSet\">\\n      <td class=\"table-margin\">\\n      </td>\\n      <td align=\"center\" class=\"borderRight\" valign=\"middle\">\\n       6.2\\n      </td>\\n      <td class=\"dataPad\" valign=\"middle\">\\n       26.6\\n      </td>\\n      <td class=\"winmarker\" valign=\"middle\">\\n       ★\\n      </td>\\n      <td class=\"dataPad winScore\" valign=\"middle\">\\n       0\\n      </td>\\n      <td align=\"center\" class=\"game-type-col\" style=\"font-weight: bold;\" valign=\"middle\">\\n       301\\n      </td>\\n      <td class=\"dataPad\" valign=\"middle\">\\n       3\\n      </td>\\n      <td class=\"winmarker\">\\n      </td>\\n      <td class=\"dataPad\" valign=\"middle\">\\n       24.8\\n      </td>\\n      <td align=\"center\" class=\"borderLeft\" valign=\"middle\">\\n       34\\n      </td>\\n      <td class=\"table-margin\">\\n      </td>\\n     </tr>\\n     <tr class=\"color1\">\\n      <td class=\"table-margin\">\\n      </td>\\n      <td align=\"center\" class=\"borderRight\" valign=\"middle\">\\n       7.1\\n      </td>\\n      <td class=\"dataPad\" valign=\"middle\">\\n       34.6\\n      </td>\\n      <td class=\"dataPadLeft endSetNameCol\" rowspan=\"2\" valign=\"middle\">\\n       <span class=\"playerName\">\\n        Josh  Shapiro\\n       </span>\\n       <br/>\\n       <span class=\"playerName\">\\n        Sam  Morgan\\n       </span>\\n      </td>\\n      <td class=\"winmarker\">\\n      </td>\\n      <td class=\"dataPad\" valign=\"middle\">\\n       24\\n      </td>\\n      <td align=\"center\" class=\"game-type-col\" style=\"font-weight: bold;\" valign=\"middle\">\\n       301\\n      </td>\\n      <td class=\"dataPad winScore\" valign=\"middle\">\\n       0\\n      </td>\\n      <td class=\"winmarker\">\\n       ♦\\n      </td>\\n      <td class=\"dataPadLeft endSetNameCol\" rowspan=\"2\" valign=\"middle\">\\n       <span class=\"playerName\">\\n        Kyle  Schrage\\n       </span>\\n       <br/>\\n       <span class=\"playerName\">\\n        Scott  Seisser\\n       </span>\\n      </td>\\n      <td class=\"dataPad\" valign=\"middle\">\\n       39.3\\n      </td>\\n      <td align=\"center\" class=\"borderLeft\" valign=\"middle\">\\n       23\\n      </td>\\n      <td class=\"table-margin\">\\n      </td>\\n     </tr>\\n     <tr class=\"color1 endSet\">\\n      <td class=\"table-margin\">\\n      </td>\\n      <td align=\"center\" class=\"borderRight\" valign=\"middle\">\\n       7.2\\n      </td>\\n      <td class=\"dataPad\" valign=\"middle\">\\n       37.0\\n      </td>\\n      <td class=\"winmarker\">\\n      </td>\\n      <td class=\"dataPad\" valign=\"middle\">\\n       42\\n      </td>\\n      <td align=\"center\" class=\"game-type-col\" style=\"font-weight: bold;\" valign=\"middle\">\\n       301\\n      </td>\\n      <td class=\"dataPad winScore\" valign=\"middle\">\\n       0\\n      </td>\\n      <td class=\"winmarker\" valign=\"middle\">\\n       ★\\n      </td>\\n      <td class=\"dataPad\" valign=\"middle\">\\n       47.5\\n      </td>\\n      <td align=\"center\" class=\"borderLeft\" valign=\"middle\">\\n       19\\n      </td>\\n      <td class=\"table-margin\">\\n      </td>\\n     </tr>\\n     <tr class=\"color2\">\\n      <td class=\"table-margin\">\\n      </td>\\n      <td align=\"center\" class=\"borderRight\" valign=\"middle\">\\n       8.1\\n      </td>\\n      <td class=\"dataPad\" valign=\"middle\">\\n       3.0\\n      </td>\\n      <td class=\"dataPadLeft endSetNameCol\" rowspan=\"3\" valign=\"middle\">\\n       <span class=\"playerName\">\\n        Sam  Morgan\\n       </span>\\n      </td>\\n      <td class=\"winmarker\">\\n       ♦\\n      </td>\\n      <td class=\"dataPad winScore\" valign=\"middle\">\\n       323\\n      </td>\\n      <td align=\"center\" class=\"game-type-col\" style=\"font-weight: bold;\" valign=\"middle\">\\n       Cricket\\n      </td>\\n      <td class=\"dataPad\" valign=\"middle\">\\n       177\\n      </td>\\n      <td class=\"winmarker\">\\n      </td>\\n      <td class=\"dataPadLeft endSetNameCol\" rowspan=\"3\" valign=\"middle\">\\n       <span class=\"playerName\">\\n        Will  Moore\\n       </span>\\n      </td>\\n      <td class=\"dataPad\" valign=\"middle\">\\n       2.1\\n      </td>\\n      <td align=\"center\" class=\"borderLeft\" valign=\"middle\">\\n       38\\n      </td>\\n      <td class=\"table-margin\">\\n      </td>\\n     </tr>\\n     <tr class=\"color2\">\\n      <td class=\"table-margin\">\\n      </td>\\n      <td align=\"center\" class=\"borderRight\" valign=\"middle\">\\n       8.2\\n      </td>\\n      <td class=\"dataPad\" valign=\"middle\">\\n       1.9\\n      </td>\\n      <td class=\"winmarker\">\\n      </td>\\n      <td class=\"dataPad\" valign=\"middle\">\\n       123\\n      </td>\\n      <td align=\"center\" class=\"game-type-col\" style=\"font-weight: bold;\" valign=\"middle\">\\n       Cricket\\n      </td>\\n      <td class=\"dataPad winScore\" valign=\"middle\">\\n       134\\n      </td>\\n      <td class=\"winmarker\">\\n       ♦\\n      </td>\\n      <td class=\"dataPad\" valign=\"middle\">\\n       2.5\\n      </td>\\n      <td align=\"center\" class=\"borderLeft\" valign=\"middle\">\\n       33\\n      </td>\\n      <td class=\"table-margin\">\\n      </td>\\n     </tr>\\n     <tr class=\"color2 endSet\">\\n      <td class=\"table-margin\">\\n      </td>\\n      <td align=\"center\" class=\"borderRight\" valign=\"middle\">\\n       8.3\\n      </td>\\n      <td class=\"dataPad\" valign=\"middle\">\\n       2.6\\n      </td>\\n      <td class=\"winmarker\">\\n      </td>\\n      <td class=\"dataPad\" valign=\"middle\">\\n       361\\n      </td>\\n      <td align=\"center\" class=\"game-type-col\" style=\"font-weight: bold;\" valign=\"middle\">\\n       Cricket\\n      </td>\\n      <td class=\"dataPad winScore\" valign=\"middle\">\\n       423\\n      </td>\\n      <td class=\"winmarker\" valign=\"middle\">\\n       ★\\n      </td>\\n      <td class=\"dataPad\" valign=\"middle\">\\n       3.0\\n      </td>\\n      <td align=\"center\" class=\"borderLeft\" valign=\"middle\">\\n       44\\n      </td>\\n      <td class=\"table-margin\">\\n      </td>\\n     </tr>\\n     <tr class=\"color1\">\\n      <td class=\"table-margin\">\\n      </td>\\n      <td align=\"center\" class=\"borderRight\" valign=\"middle\">\\n       9.1\\n      </td>\\n      <td class=\"dataPad\" valign=\"middle\">\\n       40.0\\n      </td>\\n      <td class=\"dataPadLeft endSetNameCol\" rowspan=\"2\" valign=\"middle\">\\n       <span class=\"playerName\">\\n        Josh  Shapiro\\n       </span>\\n       <br/>\\n       <span class=\"playerName\">\\n        Alfonso  Vasquez\\n       </span>\\n      </td>\\n      <td class=\"winmarker\">\\n      </td>\\n      <td class=\"dataPad\" valign=\"middle\">\\n       181\\n      </td>\\n      <td align=\"center\" class=\"game-type-col\" style=\"font-weight: bold;\" valign=\"middle\">\\n       501\\n      </td>\\n      <td class=\"dataPad winScore\" valign=\"middle\">\\n       0\\n      </td>\\n      <td class=\"winmarker\">\\n       ♦\\n      </td>\\n      <td class=\"dataPadLeft endSetNameCol\" rowspan=\"2\" valign=\"middle\">\\n       <span class=\"playerName\">\\n        Christopher  Quinn\\n       </span>\\n       <br/>\\n       <span class=\"playerName\">\\n        Aaron  Steingold\\n       </span>\\n      </td>\\n      <td class=\"dataPad\" valign=\"middle\">\\n       55.7\\n      </td>\\n      <td align=\"center\" class=\"borderLeft\" valign=\"middle\">\\n       27\\n      </td>\\n      <td class=\"table-margin\">\\n      </td>\\n     </tr>\\n     <tr class=\"color1 endSet\">\\n      <td class=\"table-margin\">\\n      </td>\\n      <td align=\"center\" class=\"borderRight\" valign=\"middle\">\\n       9.2\\n      </td>\\n      <td class=\"dataPad\" valign=\"middle\">\\n       33.9\\n      </td>\\n      <td class=\"winmarker\">\\n      </td>\\n      <td class=\"dataPad\" valign=\"middle\">\\n       128\\n      </td>\\n      <td align=\"center\" class=\"game-type-col\" style=\"font-weight: bold;\" valign=\"middle\">\\n       501\\n      </td>\\n      <td class=\"dataPad winScore\" valign=\"middle\">\\n       0\\n      </td>\\n      <td class=\"winmarker\" valign=\"middle\">\\n       ★\\n      </td>\\n      <td class=\"dataPad\" valign=\"middle\">\\n       47.0\\n      </td>\\n      <td align=\"center\" class=\"borderLeft\" valign=\"middle\">\\n       32\\n      </td>\\n      <td class=\"table-margin\">\\n      </td>\\n     </tr>\\n     <tr class=\"sumaryBoardFooter\">\\n      <td class=\"table-margin\">\\n      </td>\\n      <td colspan=\"11\">\\n       Match ID: 5e5484ad3bd5632f1d4d85d4\\n      </td>\\n      <td class=\"table-margin\">\\n      </td>\\n     </tr>\\n    </table>\\n   </div>\\n   <div class=\"recapMsg\">\\n    <h2>\\n     Did everyone in the match receive a copy of the match recap?\\n    </h2>\\n   </div>\\n   <div class=\"accomplishements-container\">\\n    <table border=\"0\" class=\"freeTable game-summary-data sectionGuideTable\" width=\"800\">\\n     <tr>\\n      <td valign=\"top\">\\n       <table border=\"0\" width=\"360\">\\n        <tr>\\n         <td class=\"accomp-header\" colspan=\"2\">\\n          Home/Host Players\\n         </td>\\n        </tr>\\n        <tr>\\n         <td>\\n          Erik Lindholm\\n         </td>\\n         <td>\\n          Member\\n         </td>\\n        </tr>\\n        <tr>\\n         <td>\\n          Matthew Mann\\n         </td>\\n         <td>\\n          Missing Email\\n         </td>\\n        </tr>\\n        <tr>\\n         <td>\\n          Sam Morgan\\n         </td>\\n         <td>\\n          Member\\n         </td>\\n        </tr>\\n        <tr>\\n         <td>\\n          Josh Shapiro\\n         </td>\\n         <td>\\n          Missing Email\\n         </td>\\n        </tr>\\n        <tr>\\n         <td>\\n          Alfonso Vasquez\\n         </td>\\n         <td>\\n          Premium\\n         </td>\\n        </tr>\\n       </table>\\n      </td>\\n      <td width=\"80\">\\n       &amp;nbsp\\n      </td>\\n      <td valign=\"top\">\\n       <table border=\"0\" width=\"360\">\\n        <tr>\\n         <td class=\"accomp-header\" colspan=\"2\">\\n          Away/Guest Players\\n         </td>\\n        </tr>\\n        <tr>\\n         <td>\\n          Will Moore\\n         </td>\\n         <td>\\n          Premium\\n         </td>\\n        </tr>\\n        <tr>\\n         <td>\\n          Christopher Quinn\\n         </td>\\n         <td>\\n          Premium\\n         </td>\\n        </tr>\\n        <tr>\\n         <td>\\n          Kyle Schrage\\n         </td>\\n         <td>\\n          Premium\\n         </td>\\n        </tr>\\n        <tr>\\n         <td>\\n          Scott Seisser\\n         </td>\\n         <td>\\n          Recap Sent\\n         </td>\\n        </tr>\\n        <tr>\\n         <td>\\n          Aaron Steingold\\n         </td>\\n         <td>\\n          Premium\\n         </td>\\n        </tr>\\n        <tr>\\n         <td>\\n          Michael Vonder Haar\\n         </td>\\n         <td>\\n          Premium\\n         </td>\\n        </tr>\\n       </table>\\n      </td>\\n     </tr>\\n    </table>\\n   </div>\\n   <div class=\"match-summary\">\\n    <div class=\"disclaimer_container\">\\n     <h2>\\n      Disclaimer:\\n     </h2>\\n     <p>\\n      DartConnect continues to develop and refine the database and reporting process. Evolving methodology may change statistics over time. Should you find a discrepancy, please help us make a better product for all by reporting it to\\n      <a href=\"mailto:customerservice@dartconnect.com\">\\n       customerservice@dartconnect.com\\n      </a>\\n      .\\n     </p>\\n    </div>\\n   </div>\\n  </div>\\n </body>\\n</html>'"
      ]
     },
     "execution_count": 18,
     "metadata": {},
     "output_type": "execute_result"
    }
   ],
   "source": [
    "psoup.prettify()"
   ]
  },
  {
   "cell_type": "code",
   "execution_count": 19,
   "metadata": {},
   "outputs": [],
   "source": [
    "teams = psoup.find_all(class_=\"playerNameHeader\")"
   ]
  },
  {
   "cell_type": "code",
   "execution_count": 20,
   "metadata": {},
   "outputs": [
    {
     "data": {
      "text/plain": [
       "[<span class=\"playerNameHeader\">140 Darts</span>,\n",
       " <span class=\"playerNameHeader\">Flights Templar</span>]"
      ]
     },
     "execution_count": 20,
     "metadata": {},
     "output_type": "execute_result"
    }
   ],
   "source": [
    "teams"
   ]
  },
  {
   "cell_type": "code",
   "execution_count": 326,
   "metadata": {},
   "outputs": [],
   "source": [
    "teams = psoup.find_all(class_=\"playerNameHeader\")\n",
    "team1 = [teams[0].text]\n",
    "team2 = [teams[1].text]\n",
    "tm1nm = teams[0].text\n",
    "tm2nm = teams[1].text"
   ]
  },
  {
   "cell_type": "code",
   "execution_count": 327,
   "metadata": {},
   "outputs": [],
   "source": [
    "homaw = psoup.find_all('td', text=True)"
   ]
  },
  {
   "cell_type": "code",
   "execution_count": 328,
   "metadata": {},
   "outputs": [
    {
     "data": {
      "text/plain": [
       "['140 Darts']"
      ]
     },
     "execution_count": 328,
     "metadata": {},
     "output_type": "execute_result"
    }
   ],
   "source": [
    "team1"
   ]
  },
  {
   "cell_type": "code",
   "execution_count": 329,
   "metadata": {},
   "outputs": [],
   "source": [
    "#Refer to table data on summary table\n",
    "homaw = psoup.find_all('td', text=True)\n",
    "\n",
    "#Work backwards on table data to get team sets\n",
    "homaw = homaw[-40::]\n",
    "forbid = ['Premium', 'Recap Sent','Missing Email','Member','&nbsp']\n",
    "\n",
    "#Team 2 set construct\n",
    "for pfind in homaw[::-1]:\n",
    "    row = pfind.text\n",
    "    if row in forbid:\n",
    "        continue\n",
    "    elif row == \"Away/Guest Players\":\n",
    "        break\n",
    "    else:\n",
    "        team2.append(row)\n",
    "        continue\n",
    "        \n",
    "#Team 1 set construct        \n",
    "for pfind in homaw[::-1]:\n",
    "    row = pfind.text\n",
    "    if (row in team2) or (row in forbid) or (row == 'Away/Guest Players'):\n",
    "        continue\n",
    "    elif row == \"Home/Host Players\":\n",
    "        break\n",
    "    else:\n",
    "        team1.append(row)\n",
    "\n",
    "#Redundancy check\n",
    "for player in team1:\n",
    "    if player in team2:\n",
    "        print(player, \"ON OTHER TEAM\")"
   ]
  },
  {
   "cell_type": "code",
   "execution_count": 330,
   "metadata": {},
   "outputs": [
    {
     "data": {
      "text/plain": [
       "['140 Darts',\n",
       " 'Alfonso Vasquez',\n",
       " 'Josh Shapiro',\n",
       " 'Sam Morgan',\n",
       " 'Matthew Mann',\n",
       " 'Erik Lindholm']"
      ]
     },
     "execution_count": 330,
     "metadata": {},
     "output_type": "execute_result"
    }
   ],
   "source": [
    "team1"
   ]
  },
  {
   "cell_type": "markdown",
   "metadata": {},
   "source": []
  },
  {
   "cell_type": "code",
   "execution_count": 137,
   "metadata": {},
   "outputs": [],
   "source": [
    "#Finds rows populated with player names\n",
    "players = psoup.find_all('tr')\n",
    "\n",
    "versus = []\n",
    "for row in players:\n",
    "    opps = row.find_all(class_='playerName')\n",
    "    if (opps != []):\n",
    "        versus.append(opps)\n",
    "    else:\n",
    "        continue"
   ]
  },
  {
   "cell_type": "code",
   "execution_count": 94,
   "metadata": {},
   "outputs": [],
   "source": [
    "#Differentiates between solo and partner matches\n",
    "t1 = []\n",
    "t2 = []\n",
    "for match in versus:\n",
    "    if (len(match) == 2):\n",
    "        t1.append(match[0].text)\n",
    "        t2.append(match[1].text)\n",
    "    elif (len(match) == 4):\n",
    "        t1.append(match[0].text)\n",
    "        t1.append(match[1].text)\n",
    "        t2.append(match[2].text)\n",
    "        t2.append(match[3].text)\n",
    "    else:\n",
    "        print(\"I don't know who's playing this match.\")"
   ]
  },
  {
   "cell_type": "code",
   "execution_count": 132,
   "metadata": {},
   "outputs": [
    {
     "name": "stdout",
     "output_type": "stream",
     "text": [
      "M.VonderHaar\n",
      "ChristopherQuinn\n",
      "WillMoore\n",
      "KyleSchrage\n",
      "WillMoore\n",
      "KyleSchrage\n",
      "ChristopherQuinn\n",
      "ChristopherQuinn\n",
      "M.VonderHaar\n",
      "KyleSchrage\n",
      "ScottSeisser\n",
      "WillMoore\n",
      "ChristopherQuinn\n",
      "AaronSteingold\n",
      "JoshShapiro\n",
      "MatthewMann\n",
      "SamMorgan\n",
      "AlfonsoVasquez\n",
      "SamMorgan\n",
      "ErikLindholm\n",
      "MatthewMann\n",
      "MatthewMann\n",
      "ErikLindholm\n",
      "JoshShapiro\n",
      "SamMorgan\n",
      "SamMorgan\n",
      "JoshShapiro\n",
      "AlfonsoVasquez\n"
     ]
    }
   ],
   "source": [
    "#Generates t1 and t2 spaceless lists, but doesn't account for abbreviations\n",
    "for t in t2:\n",
    "    t = \"\".join(t.split())\n",
    "    team2.append(t)\n",
    "    print(t)\n",
    "for t in t1:\n",
    "    t = \"\".join(t.split())\n",
    "    team1.append(t)\n",
    "    print(t)"
   ]
  },
  {
   "cell_type": "code",
   "execution_count": 334,
   "metadata": {
    "scrolled": true
   },
   "outputs": [],
   "source": [
    "#Team roster and team name definitions\n",
    "teams = psoup.find_all(class_=\"playerNameHeader\")\n",
    "team1 = [teams[0].text]\n",
    "team2 = [teams[1].text]\n",
    "tm1nm = teams[0].text\n",
    "tm2nm = teams[1].text\n",
    "\n",
    "#Refer to table data on summary page\n",
    "homaw = psoup.find_all('td', text=True)\n",
    "\n",
    "#Get last 40 and define excluded strings\n",
    "homaw = homaw[-40::]\n",
    "forbid = ['Premium', 'Recap Sent','Missing Email','Member','&nbsp']\n",
    "\n",
    "#Team 2 roster construct\n",
    "for pfind in homaw[::-1]:\n",
    "    row = pfind.text\n",
    "    if row in forbid:\n",
    "        continue\n",
    "    elif row == \"Away/Guest Players\":\n",
    "        break\n",
    "    else:\n",
    "        team2.append(row)\n",
    "        continue\n",
    "        \n",
    "#Team 1 roster construct        \n",
    "for pfind in homaw[::-1]:\n",
    "    row = pfind.text\n",
    "    if (row in team2) or (row in forbid) or (row == 'Away/Guest Players'):\n",
    "        continue\n",
    "    elif row == \"Home/Host Players\":\n",
    "        break\n",
    "    else:\n",
    "        team1.append(row)\n",
    "\n",
    "#Redundancy check\n",
    "for player in team1:\n",
    "    if player in team2:\n",
    "        print(player, \"ON OTHER TEAM\")\n",
    "\n",
    "#Add aliases to roster\n",
    "\n",
    "#Find rows populated with player names\n",
    "players = psoup.find_all('tr')\n",
    "versus = []\n",
    "for row in players:\n",
    "    opps = row.find_all(class_='playerName')\n",
    "    if (opps != []):\n",
    "        versus.append(opps)\n",
    "    else:\n",
    "        continue\n",
    "\n",
    "#Differentiate between solo and partner matches, then put players in teams\n",
    "t1 = []\n",
    "t2 = []\n",
    "for match in versus:\n",
    "    if (len(match) == 2):\n",
    "        t1.append(match[0].text)\n",
    "        t2.append(match[1].text)\n",
    "    elif (len(match) == 4):\n",
    "        t1.append(match[0].text)\n",
    "        t1.append(match[1].text)\n",
    "        t2.append(match[2].text)\n",
    "        t2.append(match[3].text)\n",
    "    else:\n",
    "        print(\"I don't know who's playing this match.\")\n",
    "\n",
    "#Generates tm1 and tm2 spaceless lists\n",
    "tm1 = []\n",
    "tm2 = []\n",
    "\n",
    "#Spaceless from rosters\n",
    "for p in team1:\n",
    "    p = \"\".join(p.split())\n",
    "    tm1.append(p)\n",
    "    \n",
    "for p in team2:\n",
    "    p = \"\".join(p.split())\n",
    "    tm2.append(p)\n",
    "\n",
    "#Spaceless aliases from summary table\n",
    "for t in t1:\n",
    "    t = \"\".join(t.split())\n",
    "    if t in tm1:\n",
    "        continue\n",
    "    else:\n",
    "        tm1.append(t)\n",
    "        \n",
    "for t in t2:\n",
    "    t = \"\".join(t.split())\n",
    "    if t in tm2:\n",
    "        continue\n",
    "    else:\n",
    "        tm2.append(t)\n",
    "        \n",
    "#Generate spaceless player list from PName function\n",
    "all_players = PName(all_legs)\n",
    "plyrlst = []\n",
    "\n",
    "for playr in all_players:\n",
    "    playr = \"\".join(playr.split())\n",
    "    plyrlst.append(playr)\n",
    "\n",
    "#Generates the 'Team' column for the dataframe\n",
    "teamcol = []\n",
    "for player in plyrlst:\n",
    "    if player in tm1:\n",
    "        teamcol.append(tm1nm)\n",
    "    elif player in tm2:\n",
    "        teamcol.append(tm2nm)\n",
    "    else:\n",
    "        print(player, \"not found on any team.\")"
   ]
  },
  {
   "cell_type": "code",
   "execution_count": 336,
   "metadata": {},
   "outputs": [
    {
     "data": {
      "text/plain": [
       "64"
      ]
     },
     "execution_count": 336,
     "metadata": {},
     "output_type": "execute_result"
    }
   ],
   "source": [
    "len(teamcol)"
   ]
  },
  {
   "cell_type": "code",
   "execution_count": 331,
   "metadata": {},
   "outputs": [],
   "source": [
    "#TM1 and 2 test\n",
    "#Team roster and team name definitions\n",
    "teams = psoup.find_all(class_=\"playerNameHeader\")\n",
    "team1 = [teams[0].text]\n",
    "team2 = [teams[1].text]\n",
    "tm1nm = teams[0].text\n",
    "tm2nm = teams[1].text\n",
    "\n",
    "#Refer to table data on summary page\n",
    "homaw = psoup.find_all('td', text=True)\n",
    "\n",
    "#Get last 40 and define excluded strings\n",
    "homaw = homaw[-40::]\n",
    "forbid = ['Premium', 'Recap Sent','Missing Email','Member','&nbsp']\n",
    "\n",
    "#Team 2 roster construct\n",
    "for pfind in homaw[::-1]:\n",
    "    row = pfind.text\n",
    "    if row in forbid:\n",
    "        continue\n",
    "    elif row == \"Away/Guest Players\":\n",
    "        break\n",
    "    else:\n",
    "        team2.append(row)\n",
    "        continue\n",
    "        \n",
    "#Team 1 roster construct        \n",
    "for pfind in homaw[::-1]:\n",
    "    row = pfind.text\n",
    "    if (row in team2) or (row in forbid) or (row == 'Away/Guest Players'):\n",
    "        continue\n",
    "    elif row == \"Home/Host Players\":\n",
    "        break\n",
    "    else:\n",
    "        team1.append(row)\n",
    "\n",
    "#Redundancy check\n",
    "for player in team1:\n",
    "    if player in team2:\n",
    "        print(player, \"ON OTHER TEAM\")\n",
    "\n",
    "#Add aliases to roster\n",
    "\n",
    "#Find rows populated with player names\n",
    "players = psoup.find_all('tr')\n",
    "versus = []\n",
    "for row in players:\n",
    "    opps = row.find_all(class_='playerName')\n",
    "    if (opps != []):\n",
    "        versus.append(opps)\n",
    "    else:\n",
    "        continue\n",
    "\n",
    "#Differentiate between solo and partner matches, then put players in teams\n",
    "t1 = []\n",
    "t2 = []\n",
    "for match in versus:\n",
    "    if (len(match) == 2):\n",
    "        t1.append(match[0].text)\n",
    "        t2.append(match[1].text)\n",
    "    elif (len(match) == 4):\n",
    "        t1.append(match[0].text)\n",
    "        t1.append(match[1].text)\n",
    "        t2.append(match[2].text)\n",
    "        t2.append(match[3].text)\n",
    "    else:\n",
    "        print(\"I don't know who's playing this match.\")\n",
    "\n",
    "#Generates tm1 and tm2 spaceless lists\n",
    "tm1 = []\n",
    "tm2 = []\n",
    "\n",
    "#Spaceless from rosters\n",
    "for p in team1:\n",
    "    p = \"\".join(p.split())\n",
    "    tm1.append(p)\n",
    "    \n",
    "for p in team2:\n",
    "    p = \"\".join(p.split())\n",
    "    tm2.append(p)\n",
    "\n",
    "#Spaceless aliases from summary table\n",
    "for t in t1:\n",
    "    t = \"\".join(t.split())\n",
    "    if t in tm1:\n",
    "        continue\n",
    "    else:\n",
    "        tm1.append(t)\n",
    "        \n",
    "for t in t2:\n",
    "    t = \"\".join(t.split())\n",
    "    if t in tm2:\n",
    "        continue\n",
    "    else:\n",
    "        tm2.append(t)"
   ]
  },
  {
   "cell_type": "code",
   "execution_count": 332,
   "metadata": {},
   "outputs": [
    {
     "data": {
      "text/plain": [
       "['140Darts',\n",
       " 'AlfonsoVasquez',\n",
       " 'JoshShapiro',\n",
       " 'SamMorgan',\n",
       " 'MatthewMann',\n",
       " 'ErikLindholm']"
      ]
     },
     "execution_count": 332,
     "metadata": {},
     "output_type": "execute_result"
    }
   ],
   "source": [
    "tm1"
   ]
  },
  {
   "cell_type": "code",
   "execution_count": 333,
   "metadata": {},
   "outputs": [
    {
     "data": {
      "text/plain": [
       "['FlightsTemplar',\n",
       " 'MichaelVonderHaar',\n",
       " 'AaronSteingold',\n",
       " 'ScottSeisser',\n",
       " 'KyleSchrage',\n",
       " 'ChristopherQuinn',\n",
       " 'WillMoore',\n",
       " 'M.VonderHaar']"
      ]
     },
     "execution_count": 333,
     "metadata": {},
     "output_type": "execute_result"
    }
   ],
   "source": [
    "tm2"
   ]
  },
  {
   "cell_type": "code",
   "execution_count": 124,
   "metadata": {},
   "outputs": [],
   "source": [
    "plyrlst = []\n",
    "for playr in all_players:\n",
    "    playr = \"\".join(playr.split())\n",
    "    plyrlst.append(playr)"
   ]
  },
  {
   "cell_type": "code",
   "execution_count": 135,
   "metadata": {
    "scrolled": true
   },
   "outputs": [
    {
     "name": "stdout",
     "output_type": "stream",
     "text": [
      "MichaelVonderHaar not found on any team.\n",
      "MichaelVonderHaar not found on any team.\n",
      "MichaelVonderHaar not found on any team.\n",
      "MichaelVonderHaar not found on any team.\n",
      "MichaelVonderHaar not found on any team.\n"
     ]
    },
    {
     "data": {
      "text/plain": [
       "['140 Darts',\n",
       " '140 Darts',\n",
       " '140 Darts',\n",
       " '140 Darts',\n",
       " '140 Darts',\n",
       " 'Flights Templar',\n",
       " 'Flights Templar',\n",
       " '140 Darts',\n",
       " '140 Darts',\n",
       " 'Flights Templar',\n",
       " 'Flights Templar',\n",
       " '140 Darts',\n",
       " '140 Darts',\n",
       " 'Flights Templar',\n",
       " 'Flights Templar',\n",
       " '140 Darts',\n",
       " 'Flights Templar',\n",
       " '140 Darts',\n",
       " 'Flights Templar',\n",
       " '140 Darts',\n",
       " '140 Darts',\n",
       " 'Flights Templar',\n",
       " 'Flights Templar',\n",
       " '140 Darts',\n",
       " '140 Darts',\n",
       " 'Flights Templar',\n",
       " 'Flights Templar',\n",
       " '140 Darts',\n",
       " 'Flights Templar',\n",
       " '140 Darts',\n",
       " 'Flights Templar',\n",
       " '140 Darts',\n",
       " '140 Darts',\n",
       " 'Flights Templar',\n",
       " '140 Darts',\n",
       " '140 Darts',\n",
       " 'Flights Templar',\n",
       " '140 Darts',\n",
       " '140 Darts',\n",
       " 'Flights Templar',\n",
       " 'Flights Templar',\n",
       " '140 Darts',\n",
       " '140 Darts',\n",
       " 'Flights Templar',\n",
       " 'Flights Templar',\n",
       " '140 Darts',\n",
       " 'Flights Templar',\n",
       " '140 Darts',\n",
       " 'Flights Templar',\n",
       " '140 Darts',\n",
       " 'Flights Templar',\n",
       " '140 Darts',\n",
       " '140 Darts',\n",
       " 'Flights Templar',\n",
       " 'Flights Templar',\n",
       " '140 Darts',\n",
       " '140 Darts',\n",
       " 'Flights Templar',\n",
       " 'Flights Templar']"
      ]
     },
     "execution_count": 135,
     "metadata": {},
     "output_type": "execute_result"
    }
   ],
   "source": [
    "teamcol = []\n",
    "for player in plyrlst:\n",
    "    if player in team1:\n",
    "        teamcol.append(tm1nm)\n",
    "    elif player in team2:\n",
    "        teamcol.append(tm2nm)\n",
    "    else:\n",
    "        print(player, \"not found on any team.\")\n",
    "teamcol"
   ]
  },
  {
   "cell_type": "code",
   "execution_count": 130,
   "metadata": {},
   "outputs": [
    {
     "data": {
      "text/plain": [
       "['JoshShapiro',\n",
       " 'MichaelVonderHaar',\n",
       " 'JoshShapiro',\n",
       " 'MichaelVonderHaar',\n",
       " 'JoshShapiro',\n",
       " 'MichaelVonderHaar',\n",
       " 'MatthewMann',\n",
       " 'SamMorgan',\n",
       " 'ChristopherQuinn',\n",
       " 'WillMoore',\n",
       " 'SamMorgan',\n",
       " 'MatthewMann',\n",
       " 'ChristopherQuinn',\n",
       " 'WillMoore',\n",
       " 'MatthewMann',\n",
       " 'SamMorgan',\n",
       " 'ChristopherQuinn',\n",
       " 'WillMoore',\n",
       " 'AlfonsoVasquez',\n",
       " 'KyleSchrage',\n",
       " 'AlfonsoVasquez',\n",
       " 'KyleSchrage',\n",
       " 'SamMorgan',\n",
       " 'ErikLindholm',\n",
       " 'WillMoore',\n",
       " 'KyleSchrage',\n",
       " 'SamMorgan',\n",
       " 'ErikLindholm',\n",
       " 'KyleSchrage',\n",
       " 'WillMoore',\n",
       " 'MatthewMann',\n",
       " 'ChristopherQuinn',\n",
       " 'MatthewMann',\n",
       " 'ChristopherQuinn',\n",
       " 'MatthewMann',\n",
       " 'ErikLindholm',\n",
       " 'ChristopherQuinn',\n",
       " 'MichaelVonderHaar',\n",
       " 'ErikLindholm',\n",
       " 'MatthewMann',\n",
       " 'MichaelVonderHaar',\n",
       " 'ChristopherQuinn',\n",
       " 'JoshShapiro',\n",
       " 'SamMorgan',\n",
       " 'KyleSchrage',\n",
       " 'ScottSeisser',\n",
       " 'SamMorgan',\n",
       " 'JoshShapiro',\n",
       " 'KyleSchrage',\n",
       " 'ScottSeisser',\n",
       " 'SamMorgan',\n",
       " 'WillMoore',\n",
       " 'SamMorgan',\n",
       " 'WillMoore',\n",
       " 'SamMorgan',\n",
       " 'WillMoore',\n",
       " 'JoshShapiro',\n",
       " 'AlfonsoVasquez',\n",
       " 'ChristopherQuinn',\n",
       " 'AaronSteingold',\n",
       " 'JoshShapiro',\n",
       " 'AlfonsoVasquez',\n",
       " 'ChristopherQuinn',\n",
       " 'AaronSteingold']"
      ]
     },
     "execution_count": 130,
     "metadata": {},
     "output_type": "execute_result"
    }
   ],
   "source": [
    "plyrlst"
   ]
  },
  {
   "cell_type": "code",
   "execution_count": 131,
   "metadata": {},
   "outputs": [
    {
     "data": {
      "text/plain": [
       "['140 Darts']"
      ]
     },
     "execution_count": 131,
     "metadata": {},
     "output_type": "execute_result"
    }
   ],
   "source": [
    "team1"
   ]
  },
  {
   "cell_type": "code",
   "execution_count": null,
   "metadata": {},
   "outputs": [],
   "source": []
  },
  {
   "cell_type": "code",
   "execution_count": null,
   "metadata": {},
   "outputs": [],
   "source": []
  },
  {
   "cell_type": "code",
   "execution_count": 121,
   "metadata": {},
   "outputs": [
    {
     "data": {
      "text/plain": [
       "['140 Darts',\n",
       " 'JoshShapiro',\n",
       " 'MatthewMann',\n",
       " 'SamMorgan',\n",
       " 'AlfonsoVasquez',\n",
       " 'SamMorgan',\n",
       " 'ErikLindholm',\n",
       " 'MatthewMann',\n",
       " 'MatthewMann',\n",
       " 'ErikLindholm',\n",
       " 'JoshShapiro',\n",
       " 'SamMorgan',\n",
       " 'SamMorgan',\n",
       " 'JoshShapiro',\n",
       " 'AlfonsoVasquez']"
      ]
     },
     "execution_count": 121,
     "metadata": {},
     "output_type": "execute_result"
    }
   ],
   "source": [
    "team1"
   ]
  },
  {
   "cell_type": "code",
   "execution_count": 122,
   "metadata": {},
   "outputs": [
    {
     "data": {
      "text/plain": [
       "['Flights Templar',\n",
       " 'M.VonderHaar',\n",
       " 'ChristopherQuinn',\n",
       " 'WillMoore',\n",
       " 'KyleSchrage',\n",
       " 'WillMoore',\n",
       " 'KyleSchrage',\n",
       " 'ChristopherQuinn',\n",
       " 'ChristopherQuinn',\n",
       " 'M.VonderHaar',\n",
       " 'KyleSchrage',\n",
       " 'ScottSeisser',\n",
       " 'WillMoore',\n",
       " 'ChristopherQuinn',\n",
       " 'AaronSteingold']"
      ]
     },
     "execution_count": 122,
     "metadata": {},
     "output_type": "execute_result"
    }
   ],
   "source": [
    "team2"
   ]
  },
  {
   "cell_type": "code",
   "execution_count": null,
   "metadata": {},
   "outputs": [],
   "source": [
    "team2 = {team2[0]:team2[1::]}"
   ]
  },
  {
   "cell_type": "code",
   "execution_count": null,
   "metadata": {},
   "outputs": [],
   "source": [
    "teamcol = []\n",
    "for playr in allplayers:\n",
    "    if (team1[[playr]] == True):\n",
    "        teamcol.append(team1.keys())\n",
    "    elif (team2[[playr]] == True):\n",
    "        teamcol.append(team2.keys())\n",
    "    else:\n",
    "        print(\"Player \" 'player' \" not found on either team.\")"
   ]
  },
  {
   "cell_type": "code",
   "execution_count": null,
   "metadata": {},
   "outputs": [],
   "source": [
    "team2.values()"
   ]
  },
  {
   "cell_type": "code",
   "execution_count": null,
   "metadata": {},
   "outputs": [],
   "source": [
    "team2.key"
   ]
  },
  {
   "cell_type": "code",
   "execution_count": null,
   "metadata": {},
   "outputs": [],
   "source": [
    "team2.keys()"
   ]
  },
  {
   "cell_type": "code",
   "execution_count": null,
   "metadata": {},
   "outputs": [],
   "source": [
    "team2['Dustin Scholtes']"
   ]
  },
  {
   "cell_type": "code",
   "execution_count": null,
   "metadata": {},
   "outputs": [],
   "source": [
    "team2[['Dustin Scholtes']]"
   ]
  },
  {
   "cell_type": "code",
   "execution_count": null,
   "metadata": {},
   "outputs": [],
   "source": [
    "allplayers[1]"
   ]
  },
  {
   "cell_type": "code",
   "execution_count": null,
   "metadata": {},
   "outputs": [],
   "source": [
    "team2"
   ]
  },
  {
   "cell_type": "code",
   "execution_count": null,
   "metadata": {},
   "outputs": [],
   "source": [
    "tm2dict = {}"
   ]
  }
 ],
 "metadata": {
  "kernelspec": {
   "display_name": "Python 3",
   "language": "python",
   "name": "python3"
  },
  "language_info": {
   "codemirror_mode": {
    "name": "ipython",
    "version": 3
   },
   "file_extension": ".py",
   "mimetype": "text/x-python",
   "name": "python",
   "nbconvert_exporter": "python",
   "pygments_lexer": "ipython3",
   "version": "3.8.5"
  }
 },
 "nbformat": 4,
 "nbformat_minor": 4
}
